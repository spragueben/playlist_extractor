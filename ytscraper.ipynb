{
 "cells": [
  {
   "cell_type": "markdown",
   "id": "1a2da4ff",
   "metadata": {},
   "source": [
    "# Watch Youtube Playlists Ad-Free (and Cost-Free) with VLC"
   ]
  },
  {
   "cell_type": "markdown",
   "id": "31538466-41c8-4de0-b360-535a6e80e35a",
   "metadata": {},
   "source": [
    "#### Step 1 - If you want to create a new environment to run this scraper:"
   ]
  },
  {
   "cell_type": "markdown",
   "id": "38d989dd",
   "metadata": {},
   "source": [
    "1. Before running this notebook, first create and provision a new conda environment by opening a console and running `conda create -n playlistenv python=3.9 bs4 selenium pandas ipykernel` (Note: Change the python version number to whatever version you are running)\n",
    "2. Activate your environment by running `conda activate playlistenv`\n",
    "3. Copy the path to this notebook and paste it in place of `<path_to_scraper>` in the following command: `mkdir playlist_scraper && mkdir ./playlist_scraper/bin && mv <path_to_scraper> ./playlist_scraper/` (Note: In Windows, the forward slashes might need to be changed to backslashes)\n",
    "4. Open your newly-created `playlist_scraper` directory in your preferred IDE (This can usually be accomplished by launching your IDE and choosing 'Open' from the IDE's File menu, then browsing to the directory to select it)\n",
    "5. Select `playlistenv` as the python kernel in your chosen IDE, and (re)open this notebook.\n",
    "6. If you don't have an IDE that can jupyter notebooks, run `conda install jupyterlab` in your terminal, then the command `jupyter lab` to open Jupyter Lab. \n",
    "7. Once Jupyter Lab is open, go to the `Kernel > Change Kernel` submenu and select `playlistenv` as your kernel.\n",
    "8. Run the 'sys.prefix' block below to confirm that the last item in the file path is the name of your environment (e.g. `playlistenv` if you chose to use the exact command in step 1). If the environment name is correct, proceed to next section.\n",
    "9. If `playlistenv` is not listed, Google how to select a specific Python kernel in your IDE, and repeat Step 8 after trying whatever your research suggests is the right way to find and select a kernel in your chosen IDE."
   ]
  },
  {
   "cell_type": "code",
   "execution_count": 1,
   "id": "88ff8fe2",
   "metadata": {},
   "outputs": [
    {
     "data": {
      "text/plain": [
       "'/Users/benjaminsprague/.pyenv/versions/miniconda3-4.7.12/envs/ytscraper'"
      ]
     },
     "execution_count": 1,
     "metadata": {},
     "output_type": "execute_result"
    }
   ],
   "source": [
    "import sys\n",
    "sys.prefix"
   ]
  },
  {
   "cell_type": "markdown",
   "id": "9a4278a4",
   "metadata": {},
   "source": [
    "#### Step 2 - Select a youtube playlist you would like to watch:"
   ]
  },
  {
   "cell_type": "markdown",
   "id": "6d27d555",
   "metadata": {},
   "source": [
    "--> `Hint: if the YouTube playlist is ` ___one that you created___`, change its privacy setting (on YouTube) to either` __'Unlisted'__ `or` __'Public'__ ` before pasting its web address between the quotation marks that follow '`__PLAYLIST_URL =__`' in the block below. After pasting a new url between the quotation marks (or gambling on the existing one), feel free to give it a name (by assigning a `__'PLAYLIST_TITLE'__`). Then run the block and move to Step 3.` <--"
   ]
  },
  {
   "cell_type": "code",
   "execution_count": 2,
   "id": "5cf3d241",
   "metadata": {},
   "outputs": [],
   "source": [
    "# Indicate the web address of the playlist you would like to scrape\n",
    "PLAYLIST_URL = \"https://www.youtube.com/playlist?list=PLN-FMT_Cr3Zxz3rUXmQJrz9ij0GhdEiI1\"\n",
    "# Replace \"My_Playlist\" with a name of your choosing (optional)\n",
    "PLAYLIST_TITLE = \"My_Playlist\""
   ]
  },
  {
   "cell_type": "markdown",
   "id": "29d04a2c",
   "metadata": {},
   "source": [
    "#### Step 3: Download ChromeDriver:"
   ]
  },
  {
   "cell_type": "markdown",
   "id": "8d91200a-89e5-4d87-8f20-c39879370dbd",
   "metadata": {},
   "source": [
    "1. From inside your `playlist` directory, copy the path to its `bin` subdirectory, and paste it in place of `<path_to_scraperbin>` in the following command: `mv <path_to_download> <path_to_scraperbin>`, then copy the resulting text to your clipboard\n",
    "2. Open Chrome and check what version of Chrome you are running on your computer by selecting `About Google Chrome` from the `Chrome` menu ('`About Google Chrome`' should be the first item in the `Chrome` menu).\n",
    "3. In a separate browser window, go to https://chromedriver.chromium.org/downloads\n",
    "4. From the list of available downloads, find the specific chrome driver download option whose name reflects A) the version of Chrome you are running and B) the type of operating system and CPU your machine is running it on (e.g. MacOS M1, MacOS Intel, Windows, etc)\n",
    "5. Download that version to a directory you can easily find (e.g. `Downloads`, or the one where this notebook is stored)\n",
    "6. From the directory into which you have just downloaded chromedriver, paste the command from step one into your console,  replace `<path_to_download>` with the path to your downloaded chromedriver zip file, and run the command to move the driver into your 'playlist/bin' directory\n",
    "7. Unzip the file in its new location to reveal the executable for chrome driver\n",
    "8. If you want to use a different browser, you will need a different web driver. If this is the case, ensure you have the necessary driver installed on your machine, then copy the path to your driver's executable.\n",
    "9. If necessary, in the cell below, change the value of the variable `DRIVER_NAME` to the correct name of your driver. For example, it might be `chromedriver.exe` for Windows, instead of just `chromedriver`. Or if #8 applies to you, your driver may have an entirely different name. When done, run the cell and confirm that the output matches your webdriver's path."
   ]
  },
  {
   "cell_type": "code",
   "execution_count": 3,
   "id": "a7c9ecc3",
   "metadata": {},
   "outputs": [],
   "source": [
    "# Assign correct name to your driver file\n",
    "DRIVER_NAME = \"chromedriver\" # In Windows, the correct filename might be something like \"chromedriver.exe\""
   ]
  },
  {
   "cell_type": "markdown",
   "id": "9c613da0",
   "metadata": {},
   "source": [
    "#### Step 4: Clearly, you also will need VLC Media Player"
   ]
  },
  {
   "cell_type": "markdown",
   "id": "980f5bb9",
   "metadata": {},
   "source": [
    "1. Up until the point, the whole purpose of the steps you've taken was to enable ad-free (and cost-free) viewing of youtube playlists by scraping youtube and playing the videos in VLC Media Player. So, clearly, you'll need to have VLC installed.\n",
    "2. If you **do** have VLC installed, but it isn't the latest version, open it and update VLC to the latest version.\n",
    "3. If you **do not** have VLC installed, navigate to https://www.videolan.org/vlc/ and download the version that correponds with your operating system\n",
    "4. Presumably, once you open the downloaded file, the download manager will open, and (eventually) prompt you to move the file to a directory where applications are stored. Once you have the file in whichever directory you plan to store it (e.g. your `Applications` directory), right click once (or `ctrl + click`) on the file to reveal a menu.\n",
    "5. From the menu, select `Show Package Contents` to reveal a directory, called `Contents`, which contains the application data for running VLC\n",
    "6. Double click on 'Contents' to reveal its... well, its contents.\n",
    "7. From inside `Contents` open the directory whose name describes your operating system (e.g. `MacOS`, `Windows`, etc.)\n",
    "8. From inside that (sub)directory, select the executable file called `VLC` or `VLC.exe`, and copy it's path to your clipboard\n",
    "9. Finally, now that you have copied the path to this executable (which runs VLC), first assign its value to a local variable called `VLC_PATH` by paste the copied path between the quotation marks following `VLC_PATH=` (on Line 2 of the cell cell below), then run the cell to confirm the outputted values are, respectively, the correct paths to your `VLC` executable, `playlist_scraper` directory, and `chromedriver` executable"
   ]
  },
  {
   "cell_type": "code",
   "execution_count": 4,
   "id": "32f35494",
   "metadata": {},
   "outputs": [
    {
     "name": "stdout",
     "output_type": "stream",
     "text": [
      "/Applications/VLC.app/Contents/MacOS/VLC\n",
      "/Users/benjaminsprague/Projects/data_science/NTAI/00-pythonWIP/Projects/PlaylistScraper\n",
      "/Users/benjaminsprague/Projects/data_science/NTAI/00-pythonWIP/Projects/PlaylistScraper\n"
     ]
    }
   ],
   "source": [
    "# Assign VLC_PATH Environment variable\n",
    "VLC_PATH = \"/Applications/VLC.app/Contents/MacOS/VLC\"\n",
    "\n",
    "# In the (unlikely) scenario they are are wrong, you may also change the 'DRIVER_BIN' and 'PROJECT_ROOT' variables, below\n",
    "import os\n",
    "PROJECT_ROOT = r\"/Users/benjaminsprague/Projects/data_science/NTAI/00-pythonWIP/Projects/PlaylistScraper/yt_scraper/\"\n",
    "PROJECT_ROOT = os.getcwd()\n",
    "# DRIVER_BIN = os.path.join(PROJECT_ROOT, \"bin/\", DRIVER_NAME)\n",
    "DRIVER_BIN = PROJECT_ROOT\n",
    "scraper_config = (VLC_PATH, PROJECT_ROOT, DRIVER_BIN)\n",
    "for var in scraper_config:\n",
    "    print(var)"
   ]
  },
  {
   "cell_type": "markdown",
   "id": "b5066720",
   "metadata": {},
   "source": [
    "#### Step 5: Restart the kernel, wait a bit, and then... RUN ALL CELLS!  (... then enjoy Ad-Free, Cost-Free YouTube Playlists)"
   ]
  },
  {
   "cell_type": "code",
   "execution_count": 5,
   "id": "a8c3220e-5dd5-4424-a27c-beed2aedd9b4",
   "metadata": {},
   "outputs": [],
   "source": [
    "# Import the necessary packages for scraping youtube\n",
    "import os\n",
    "import time\n",
    "from bs4 import BeautifulSoup\n",
    "import pandas as pd\n",
    "from selenium import webdriver"
   ]
  },
  {
   "cell_type": "code",
   "execution_count": 7,
   "id": "a60cbe8f",
   "metadata": {},
   "outputs": [
    {
     "ename": "WebDriverException",
     "evalue": "Message: 'PlaylistScraper' executable may have wrong permissions. Please see https://sites.google.com/a/chromium.org/chromedriver/home\n",
     "output_type": "error",
     "traceback": [
      "\u001b[0;31m---------------------------------------------------------------------------\u001b[0m",
      "\u001b[0;31mPermissionError\u001b[0m                           Traceback (most recent call last)",
      "File \u001b[0;32m~/.pyenv/versions/miniconda3-4.7.12/envs/ytscraper/lib/python3.10/site-packages/selenium/webdriver/common/service.py:72\u001b[0m, in \u001b[0;36mService.start\u001b[0;34m(self)\u001b[0m\n\u001b[1;32m     71\u001b[0m     cmd\u001b[39m.\u001b[39mextend(\u001b[39mself\u001b[39m\u001b[39m.\u001b[39mcommand_line_args())\n\u001b[0;32m---> 72\u001b[0m     \u001b[39mself\u001b[39m\u001b[39m.\u001b[39mprocess \u001b[39m=\u001b[39m subprocess\u001b[39m.\u001b[39;49mPopen(cmd, env\u001b[39m=\u001b[39;49m\u001b[39mself\u001b[39;49m\u001b[39m.\u001b[39;49menv,\n\u001b[1;32m     73\u001b[0m                                     close_fds\u001b[39m=\u001b[39;49mplatform\u001b[39m.\u001b[39;49msystem() \u001b[39m!=\u001b[39;49m \u001b[39m'\u001b[39;49m\u001b[39mWindows\u001b[39;49m\u001b[39m'\u001b[39;49m,\n\u001b[1;32m     74\u001b[0m                                     stdout\u001b[39m=\u001b[39;49m\u001b[39mself\u001b[39;49m\u001b[39m.\u001b[39;49mlog_file,\n\u001b[1;32m     75\u001b[0m                                     stderr\u001b[39m=\u001b[39;49m\u001b[39mself\u001b[39;49m\u001b[39m.\u001b[39;49mlog_file,\n\u001b[1;32m     76\u001b[0m                                     stdin\u001b[39m=\u001b[39;49mPIPE)\n\u001b[1;32m     77\u001b[0m \u001b[39mexcept\u001b[39;00m \u001b[39mTypeError\u001b[39;00m:\n",
      "File \u001b[0;32m~/.pyenv/versions/miniconda3-4.7.12/envs/ytscraper/lib/python3.10/subprocess.py:966\u001b[0m, in \u001b[0;36mPopen.__init__\u001b[0;34m(self, args, bufsize, executable, stdin, stdout, stderr, preexec_fn, close_fds, shell, cwd, env, universal_newlines, startupinfo, creationflags, restore_signals, start_new_session, pass_fds, user, group, extra_groups, encoding, errors, text, umask, pipesize)\u001b[0m\n\u001b[1;32m    963\u001b[0m             \u001b[39mself\u001b[39m\u001b[39m.\u001b[39mstderr \u001b[39m=\u001b[39m io\u001b[39m.\u001b[39mTextIOWrapper(\u001b[39mself\u001b[39m\u001b[39m.\u001b[39mstderr,\n\u001b[1;32m    964\u001b[0m                     encoding\u001b[39m=\u001b[39mencoding, errors\u001b[39m=\u001b[39merrors)\n\u001b[0;32m--> 966\u001b[0m     \u001b[39mself\u001b[39;49m\u001b[39m.\u001b[39;49m_execute_child(args, executable, preexec_fn, close_fds,\n\u001b[1;32m    967\u001b[0m                         pass_fds, cwd, env,\n\u001b[1;32m    968\u001b[0m                         startupinfo, creationflags, shell,\n\u001b[1;32m    969\u001b[0m                         p2cread, p2cwrite,\n\u001b[1;32m    970\u001b[0m                         c2pread, c2pwrite,\n\u001b[1;32m    971\u001b[0m                         errread, errwrite,\n\u001b[1;32m    972\u001b[0m                         restore_signals,\n\u001b[1;32m    973\u001b[0m                         gid, gids, uid, umask,\n\u001b[1;32m    974\u001b[0m                         start_new_session)\n\u001b[1;32m    975\u001b[0m \u001b[39mexcept\u001b[39;00m:\n\u001b[1;32m    976\u001b[0m     \u001b[39m# Cleanup if the child failed starting.\u001b[39;00m\n",
      "File \u001b[0;32m~/.pyenv/versions/miniconda3-4.7.12/envs/ytscraper/lib/python3.10/subprocess.py:1842\u001b[0m, in \u001b[0;36mPopen._execute_child\u001b[0;34m(self, args, executable, preexec_fn, close_fds, pass_fds, cwd, env, startupinfo, creationflags, shell, p2cread, p2cwrite, c2pread, c2pwrite, errread, errwrite, restore_signals, gid, gids, uid, umask, start_new_session)\u001b[0m\n\u001b[1;32m   1841\u001b[0m         err_msg \u001b[39m=\u001b[39m os\u001b[39m.\u001b[39mstrerror(errno_num)\n\u001b[0;32m-> 1842\u001b[0m     \u001b[39mraise\u001b[39;00m child_exception_type(errno_num, err_msg, err_filename)\n\u001b[1;32m   1843\u001b[0m \u001b[39mraise\u001b[39;00m child_exception_type(err_msg)\n",
      "\u001b[0;31mPermissionError\u001b[0m: [Errno 13] Permission denied: '/Users/benjaminsprague/Projects/data_science/NTAI/00-pythonWIP/Projects/PlaylistScraper'",
      "\nDuring handling of the above exception, another exception occurred:\n",
      "\u001b[0;31mWebDriverException\u001b[0m                        Traceback (most recent call last)",
      "\u001b[1;32m/Users/benjaminsprague/Projects/data_science/NTAI/00-pythonWIP/Projects/PlaylistScraper/ytscraper.ipynb Cell 16'\u001b[0m in \u001b[0;36m<module>\u001b[0;34m\u001b[0m\n\u001b[1;32m      <a href='vscode-notebook-cell:/Users/benjaminsprague/Projects/data_science/NTAI/00-pythonWIP/Projects/PlaylistScraper/ytscraper.ipynb#ch0000015?line=0'>1</a>\u001b[0m \u001b[39m# Instantiate the driver and retrieve html source code from playlist url\u001b[39;00m\n\u001b[0;32m----> <a href='vscode-notebook-cell:/Users/benjaminsprague/Projects/data_science/NTAI/00-pythonWIP/Projects/PlaylistScraper/ytscraper.ipynb#ch0000015?line=1'>2</a>\u001b[0m driver \u001b[39m=\u001b[39m webdriver\u001b[39m.\u001b[39;49mChrome(executable_path \u001b[39m=\u001b[39;49m DRIVER_BIN)\n\u001b[1;32m      <a href='vscode-notebook-cell:/Users/benjaminsprague/Projects/data_science/NTAI/00-pythonWIP/Projects/PlaylistScraper/ytscraper.ipynb#ch0000015?line=2'>3</a>\u001b[0m driver\u001b[39m.\u001b[39mget(PLAYLIST_URL)\n",
      "File \u001b[0;32m~/.pyenv/versions/miniconda3-4.7.12/envs/ytscraper/lib/python3.10/site-packages/selenium/webdriver/chrome/webdriver.py:73\u001b[0m, in \u001b[0;36mWebDriver.__init__\u001b[0;34m(self, executable_path, port, options, service_args, desired_capabilities, service_log_path, chrome_options, keep_alive)\u001b[0m\n\u001b[1;32m     66\u001b[0m         desired_capabilities\u001b[39m.\u001b[39mupdate(options\u001b[39m.\u001b[39mto_capabilities())\n\u001b[1;32m     68\u001b[0m \u001b[39mself\u001b[39m\u001b[39m.\u001b[39mservice \u001b[39m=\u001b[39m Service(\n\u001b[1;32m     69\u001b[0m     executable_path,\n\u001b[1;32m     70\u001b[0m     port\u001b[39m=\u001b[39mport,\n\u001b[1;32m     71\u001b[0m     service_args\u001b[39m=\u001b[39mservice_args,\n\u001b[1;32m     72\u001b[0m     log_path\u001b[39m=\u001b[39mservice_log_path)\n\u001b[0;32m---> 73\u001b[0m \u001b[39mself\u001b[39;49m\u001b[39m.\u001b[39;49mservice\u001b[39m.\u001b[39;49mstart()\n\u001b[1;32m     75\u001b[0m \u001b[39mtry\u001b[39;00m:\n\u001b[1;32m     76\u001b[0m     RemoteWebDriver\u001b[39m.\u001b[39m\u001b[39m__init__\u001b[39m(\n\u001b[1;32m     77\u001b[0m         \u001b[39mself\u001b[39m,\n\u001b[1;32m     78\u001b[0m         command_executor\u001b[39m=\u001b[39mChromeRemoteConnection(\n\u001b[1;32m     79\u001b[0m             remote_server_addr\u001b[39m=\u001b[39m\u001b[39mself\u001b[39m\u001b[39m.\u001b[39mservice\u001b[39m.\u001b[39mservice_url,\n\u001b[1;32m     80\u001b[0m             keep_alive\u001b[39m=\u001b[39mkeep_alive),\n\u001b[1;32m     81\u001b[0m         desired_capabilities\u001b[39m=\u001b[39mdesired_capabilities)\n",
      "File \u001b[0;32m~/.pyenv/versions/miniconda3-4.7.12/envs/ytscraper/lib/python3.10/site-packages/selenium/webdriver/common/service.py:86\u001b[0m, in \u001b[0;36mService.start\u001b[0;34m(self)\u001b[0m\n\u001b[1;32m     81\u001b[0m     \u001b[39mraise\u001b[39;00m WebDriverException(\n\u001b[1;32m     82\u001b[0m         \u001b[39m\"\u001b[39m\u001b[39m'\u001b[39m\u001b[39m%s\u001b[39;00m\u001b[39m'\u001b[39m\u001b[39m executable needs to be in PATH. \u001b[39m\u001b[39m%s\u001b[39;00m\u001b[39m\"\u001b[39m \u001b[39m%\u001b[39m (\n\u001b[1;32m     83\u001b[0m             os\u001b[39m.\u001b[39mpath\u001b[39m.\u001b[39mbasename(\u001b[39mself\u001b[39m\u001b[39m.\u001b[39mpath), \u001b[39mself\u001b[39m\u001b[39m.\u001b[39mstart_error_message)\n\u001b[1;32m     84\u001b[0m     )\n\u001b[1;32m     85\u001b[0m \u001b[39melif\u001b[39;00m err\u001b[39m.\u001b[39merrno \u001b[39m==\u001b[39m errno\u001b[39m.\u001b[39mEACCES:\n\u001b[0;32m---> 86\u001b[0m     \u001b[39mraise\u001b[39;00m WebDriverException(\n\u001b[1;32m     87\u001b[0m         \u001b[39m\"\u001b[39m\u001b[39m'\u001b[39m\u001b[39m%s\u001b[39;00m\u001b[39m'\u001b[39m\u001b[39m executable may have wrong permissions. \u001b[39m\u001b[39m%s\u001b[39;00m\u001b[39m\"\u001b[39m \u001b[39m%\u001b[39m (\n\u001b[1;32m     88\u001b[0m             os\u001b[39m.\u001b[39mpath\u001b[39m.\u001b[39mbasename(\u001b[39mself\u001b[39m\u001b[39m.\u001b[39mpath), \u001b[39mself\u001b[39m\u001b[39m.\u001b[39mstart_error_message)\n\u001b[1;32m     89\u001b[0m     )\n\u001b[1;32m     90\u001b[0m \u001b[39melse\u001b[39;00m:\n\u001b[1;32m     91\u001b[0m     \u001b[39mraise\u001b[39;00m\n",
      "\u001b[0;31mWebDriverException\u001b[0m: Message: 'PlaylistScraper' executable may have wrong permissions. Please see https://sites.google.com/a/chromium.org/chromedriver/home\n"
     ]
    }
   ],
   "source": [
    "# Instantiate the driver and retrieve html source code from playlist url\n",
    "driver = webdriver.Chrome(executable_path = DRIVER_BIN)\n",
    "driver.get(PLAYLIST_URL)"
   ]
  },
  {
   "cell_type": "code",
   "execution_count": null,
   "id": "6cd796b9",
   "metadata": {},
   "outputs": [],
   "source": [
    "# Give it time, folks. Give it time...\n",
    "time.sleep(15)"
   ]
  },
  {
   "cell_type": "code",
   "execution_count": null,
   "id": "ee7ad60c",
   "metadata": {},
   "outputs": [],
   "source": [
    "# Instantiate beautifulsoup html parser as 'soup'\n",
    "soup = BeautifulSoup(driver.page_source, 'html.parser')"
   ]
  },
  {
   "cell_type": "markdown",
   "id": "5f778ec3",
   "metadata": {},
   "source": [
    "##### Scraping playlist track urls into a list"
   ]
  },
  {
   "cell_type": "code",
   "execution_count": null,
   "id": "99b66361-e200-4c4d-9b3f-8c3c441366fb",
   "metadata": {},
   "outputs": [
    {
     "data": {
      "text/plain": [
       "['https://www.youtube.com/watch?v=1fPWr0d5zBE&list=PLN-FMT_Cr3Zxz3rUXmQJrz9ij0GhdEiI1&index=1',\n",
       " 'https://www.youtube.com/watch?v=T7aSI-E1fCE&list=PLN-FMT_Cr3Zxz3rUXmQJrz9ij0GhdEiI1&index=2',\n",
       " 'https://www.youtube.com/watch?v=t-9l98JFcSo&list=PLN-FMT_Cr3Zxz3rUXmQJrz9ij0GhdEiI1&index=3',\n",
       " 'https://www.youtube.com/watch?v=iGOEKtYfEdY&list=PLN-FMT_Cr3Zxz3rUXmQJrz9ij0GhdEiI1&index=4',\n",
       " 'https://www.youtube.com/watch?v=YX40hbAHx3s&list=PLN-FMT_Cr3Zxz3rUXmQJrz9ij0GhdEiI1&index=5']"
      ]
     },
     "execution_count": 9,
     "metadata": {},
     "output_type": "execute_result"
    }
   ],
   "source": [
    "links_html = []\n",
    "for link in soup.find_all('a', href=True):\n",
    "    links_html.append(link['href'])\n",
    "\n",
    "links_1_list = [url for url in links_html if \"/watch?v\" in url]\n",
    "links_list = [url2 for url2 in links_1_list if \"&index=\" in url2]\n",
    "\n",
    "addon_result = []\n",
    "for i in links_list:\n",
    "    if i not in addon_result:\n",
    "        addon_result.append(i)\n",
    "\n",
    "links_data = []\n",
    "for i in range(len(addon_result)):\n",
    "    links_data.append(\"https://www.youtube.com\" + addon_result[i])\n",
    "\n",
    "# FINAL URL LIST\n",
    "url_list = links_data\n",
    "\n",
    "#SAMPLE\n",
    "url_list[:5]"
   ]
  },
  {
   "cell_type": "markdown",
   "id": "a37b0606",
   "metadata": {},
   "source": [
    "##### Scraping playlist track titles into a list"
   ]
  },
  {
   "cell_type": "code",
   "execution_count": null,
   "id": "bc60480f-7f14-4121-a83b-b01d485df35e",
   "metadata": {},
   "outputs": [
    {
     "data": {
      "text/plain": [
       "['10 years of coding in 13 minutes',\n",
       " 'Why Most People FAIL to Learn Programming',\n",
       " '3 FREE Websites To Learn To Code That Are BETTER Than Coding Bootcamps',\n",
       " 'Back to Basics: The Structure of a Program',\n",
       " 'P vs. NP and the Computational Complexity Zoo']"
      ]
     },
     "execution_count": 10,
     "metadata": {},
     "output_type": "execute_result"
    }
   ],
   "source": [
    "titles_html = []\n",
    "for name in soup.find_all('a', title=True):\n",
    "        titles_html.append(name['title'])  \n",
    "\n",
    "youtube_junk_urls = [\"Shorts\",\"YouTube Home\", \"Home\", \"Explore\", \"Subscriptions\", \"Library\", \"History\", \"Share link\", \"Next (SHIFT+n)\"]\n",
    "\n",
    "titles_list_build = titles_html\n",
    "titles_urls_list = []\n",
    "\n",
    "for item in titles_list_build:\n",
    "    if item not in youtube_junk_urls:\n",
    "        titles_urls_list.append(item)\n",
    "\n",
    "#FINAL TITLE LIST\n",
    "title_list = titles_urls_list\n",
    "\n",
    "#SAMPLE\n",
    "title_list[:5]"
   ]
  },
  {
   "cell_type": "markdown",
   "id": "cce40d64",
   "metadata": {},
   "source": [
    "##### Scraping playlist track durations into a list"
   ]
  },
  {
   "cell_type": "code",
   "execution_count": null,
   "id": "fd57b849",
   "metadata": {},
   "outputs": [],
   "source": [
    "duration_html = []\n",
    "for label in soup.find_all('a'):\n",
    "    value = label.get('aria-label')\n",
    "    if value is not None:\n",
    "        duration_html.append(value)"
   ]
  },
  {
   "cell_type": "code",
   "execution_count": null,
   "id": "605a711a",
   "metadata": {},
   "outputs": [
    {
     "data": {
      "text/plain": [
       "[' 15 minutes',\n",
       " ' 8 minutes, 4 seconds',\n",
       " ' 12 minutes, 30 seconds',\n",
       " ' 1 hour, 1 minute',\n",
       " ' 10 minutes, 44 seconds']"
      ]
     },
     "execution_count": 12,
     "metadata": {},
     "output_type": "execute_result"
    }
   ],
   "source": [
    "duration_list_template = [x for x in duration_html if 'ago' in x]\n",
    "\n",
    "string_durations = []\n",
    "for x in duration_list_template:\n",
    "    split_results = x.split('ago')\n",
    "    string_durations.append(split_results[1])\n",
    "\n",
    "#STRING-FORMATTED DURATIONS LIST\n",
    "duration_list = string_durations\n",
    "\n",
    "#SAMPLE\n",
    "duration_list[:5]"
   ]
  },
  {
   "cell_type": "code",
   "execution_count": null,
   "id": "453b1034-3aa8-4c1f-9e3a-98584ad9119e",
   "metadata": {},
   "outputs": [
    {
     "data": {
      "text/plain": [
       "['Joma Tech',\n",
       " 'Aaron Jack',\n",
       " 'Dorian Develops',\n",
       " 'Coding Tech 4 months',\n",
       " 'hackerdashery']"
      ]
     },
     "execution_count": 13,
     "metadata": {},
     "output_type": "execute_result"
    }
   ],
   "source": [
    "#Get individual video Author\n",
    "\n",
    "author_template = []\n",
    "for x in duration_html:\n",
    "     split_results = x.split('by')\n",
    "     author_template.append(split_results)\n",
    "    \n",
    "author_list_2 = []               \n",
    "for x in author_template:          \n",
    "    author_list_2.append(x)\n",
    "\n",
    "author_template = [x for x in duration_html if \"by\" in x]\n",
    "\n",
    "author_list_build = []\n",
    "for x in author_template:\n",
    "     split_results = x.split('by')\n",
    "     \n",
    "     author_list_build.append(split_results[1])\n",
    "\n",
    "author_list_2 = []\n",
    "for author_get in author_list_build:\n",
    "    words = author_get.split()\n",
    "    if 'seconds' in words:\n",
    "        author_list_2.append(' '.join(words[:-7]))\n",
    "    else:\n",
    "        author_list_2.append(' '.join(words[:-5]))\n",
    "\n",
    "# FINAL AUTHORS LIST\n",
    "author_list = author_list_2\n",
    "\n",
    "#SAMPLE\n",
    "author_list[:5]"
   ]
  },
  {
   "cell_type": "markdown",
   "id": "0430ab4a",
   "metadata": {},
   "source": [
    "##### Handy function for converting strings of type `<number><unit>` to standard integer units:\n",
    "- In this case, it's set up for converting to seconds, but is easily adaptable to other units, including non-temporal (like weight, dimension, etc.)\n",
    "- Credit for this snippet goes to the answerer of this stackoverflow question: https://stackoverflow.com/questions/3096860/convert-time-string-expressed-as-numbermhdsw-to-seconds-in-python"
   ]
  },
  {
   "cell_type": "code",
   "execution_count": null,
   "id": "5e39b07b",
   "metadata": {},
   "outputs": [],
   "source": [
    "seconds_per_unit = {\"s\": 1, \"m\": 60, \"h\": 3600} # for brevity, we'll call this SPU # <--this dict could be considered a \"vector of \"\n",
    "# 15s (15, 0, 0)\n",
    "def convert_to_seconds(s):\n",
    "    return int(s[:-1]) * seconds_per_unit[s[-1]] # uses last char in `s` as SPU lookup key, multiplies by int(s[:-1])"
   ]
  },
  {
   "cell_type": "markdown",
   "id": "7685205d",
   "metadata": {},
   "source": [
    "### Converting scraped, string-formatted durations to milliseconds integer"
   ]
  },
  {
   "cell_type": "code",
   "execution_count": null,
   "id": "8073d1a0",
   "metadata": {},
   "outputs": [],
   "source": [
    "[[' 15 m'],                     (s,1)()\n",
    " [[' 8 m], [4 s']],\n",
    " '12 m 30 s',\n",
    " ' 1 hour, 1 minute',\n",
    " ' 10 minutes, 44 seconds']"
   ]
  },
  {
   "cell_type": "code",
   "execution_count": null,
   "id": "22a28b5a",
   "metadata": {},
   "outputs": [
    {
     "data": {
      "text/plain": [
       "[900000, 484000, 750000, 3660000, 644000, 6660000, 2100000, 1140000, 2940000]"
      ]
     },
     "execution_count": 15,
     "metadata": {},
     "output_type": "execute_result"
    }
   ],
   "source": [
    "import re # import python regex (re) module from standard library\n",
    "reg = r'([0-9]+\\s[^0-9])' # regex for all patterns matching integer + space + non-integer (e.g. '11 m' from '11 minutes')\n",
    "\n",
    "def convert_to_ms(s): # arg must string of format `<int> <unit>` where <unit> is the unit (seconds, minutes, etc.)\n",
    "    return int(s[:-1]) * seconds_per_unit[s[-1]] * 1000 # uses last char in `s` as SPU lookup key multiplies by int(s[:-1]) \n",
    "\n",
    "def convert_durations(duration_list):       # accepts a list argument 'l' containing '<int> <unit>' string durations\n",
    "    l = duration_list[:]                    # make a copy of duration list\n",
    "    for i in range(len(l)):                 # iterate over each list element\n",
    "        l[i] = re.findall(reg,l[i].strip()) # get integers and units for each duration                    # overwrite elements w/ portion(s) of their content that match(es) regex ('reg')\n",
    "        for a in range(len(l[i])):          # within existing loop, instantiate for-loop to iterate over elements of each sublist\n",
    "            l[i][a] = convert_to_ms(l[i][a])# convert sublist elements to milliseconds\n",
    "        l[i] = sum(l[i])                    # sum elements of each sublist\n",
    "    return l                                # return converted list\n",
    "\n",
    "duration_list = convert_durations(string_durations) # convert existing string-formatted list to ms, and assign as final list\n",
    "\n",
    "#FINAL DURATIONS LIST SAMPLE\n",
    "duration_list[:9]"
   ]
  },
  {
   "cell_type": "markdown",
   "id": "2e6838ce",
   "metadata": {},
   "source": [
    "### Creating DataFrame for use in XSPF (XML) ElementTree \n",
    "- Objective is to make key names map _exactly_ to the element names in VLC xspf format\n",
    "\n",
    "- XSPF Format QuickStart: https://xspf.org/quickstart"
   ]
  },
  {
   "cell_type": "code",
   "execution_count": null,
   "id": "100eeae1",
   "metadata": {},
   "outputs": [],
   "source": [
    "dict \t\t= {'location': url_list , 'title': title_list, 'creator': author_list, 'duration': duration_list, 'annotation':title_list, 'genre':title_list}\n",
    "df\t\t\t= pd.DataFrame.from_dict(dict, orient='index')\n",
    "df.iloc[4]  = \"description content via the 'annotation' xml tag\"\n",
    "df.iloc[5]  = \"ain't no genre when it's gone\""
   ]
  },
  {
   "cell_type": "markdown",
   "id": "d02ef951",
   "metadata": {},
   "source": [
    "### Creating a(n) XSPF File (aka 'Spiff' File)"
   ]
  },
  {
   "cell_type": "code",
   "execution_count": null,
   "id": "cb3eff6c",
   "metadata": {},
   "outputs": [],
   "source": [
    "import xml.etree.ElementTree as xml\n",
    "import os\n",
    "\n",
    "root            = xml.Element('playlist')\n",
    "title           = xml.SubElement(root, 'title')\n",
    "trackList       = xml.SubElement(root,'trackList')\n",
    "title.text      = PLAYLIST_TITLE\n",
    "columns         = df.columns\n",
    "rows            = df.index\n",
    "\n",
    "root.set('xmlns','http://xspf.org/ns/0/')\n",
    "root.set('xmlns:vlc','http://www.videolan.org/vlc/playlist/ns/0/')\n",
    "root.set('version', '1')\n",
    "\n",
    "for column in columns:\n",
    "    entry = xml.SubElement(trackList, 'track')\n",
    "    for row in df.index:\n",
    "        schild = row\n",
    "        child = xml.SubElement(entry, str(schild))  # Adding sub-element\n",
    "        child.text = str(df[column][schild])\n",
    "\n",
    "xml_data = xml.tostring(root)  # binary string\n",
    "\n",
    "with open(os.path.join(PROJECT_ROOT,\"playlist.xspf\"), 'w') as f:  # Write in file as utf-8\n",
    "    f.write(xml_data.decode('utf-8'))"
   ]
  },
  {
   "cell_type": "markdown",
   "id": "ed49b0a7",
   "metadata": {},
   "source": [
    "### Logic for creating a(n) XSPF playlist from local files"
   ]
  },
  {
   "cell_type": "code",
   "execution_count": null,
   "id": "56779ff2-bce7-49b9-8d3f-1a76f01436ba",
   "metadata": {},
   "outputs": [],
   "source": [
    "# Cleanup list contents and create dataframe (available to export) (more leftover code...)\n",
    "\n",
    "x = {'YouTube_Video_URL': url_list ,'Playlist_Item_Title': title_list , 'Runtime': duration_list , 'Author': author_list}\n"
   ]
  },
  {
   "cell_type": "code",
   "execution_count": null,
   "id": "dcad0172",
   "metadata": {},
   "outputs": [
    {
     "data": {
      "text/html": [
       "<div>\n",
       "<style scoped>\n",
       "    .dataframe tbody tr th:only-of-type {\n",
       "        vertical-align: middle;\n",
       "    }\n",
       "\n",
       "    .dataframe tbody tr th {\n",
       "        vertical-align: top;\n",
       "    }\n",
       "\n",
       "    .dataframe thead th {\n",
       "        text-align: right;\n",
       "    }\n",
       "</style>\n",
       "<table border=\"1\" class=\"dataframe\">\n",
       "  <thead>\n",
       "    <tr style=\"text-align: right;\">\n",
       "      <th></th>\n",
       "      <th>0</th>\n",
       "      <th>1</th>\n",
       "      <th>2</th>\n",
       "      <th>3</th>\n",
       "      <th>4</th>\n",
       "      <th>5</th>\n",
       "      <th>6</th>\n",
       "      <th>7</th>\n",
       "      <th>8</th>\n",
       "      <th>9</th>\n",
       "      <th>10</th>\n",
       "      <th>11</th>\n",
       "      <th>12</th>\n",
       "      <th>13</th>\n",
       "      <th>14</th>\n",
       "    </tr>\n",
       "  </thead>\n",
       "  <tbody>\n",
       "    <tr>\n",
       "      <th>YouTube_Video_URL</th>\n",
       "      <td>https://www.youtube.com/watch?v=1fPWr0d5zBE&amp;li...</td>\n",
       "      <td>https://www.youtube.com/watch?v=T7aSI-E1fCE&amp;li...</td>\n",
       "      <td>https://www.youtube.com/watch?v=t-9l98JFcSo&amp;li...</td>\n",
       "      <td>https://www.youtube.com/watch?v=iGOEKtYfEdY&amp;li...</td>\n",
       "      <td>https://www.youtube.com/watch?v=YX40hbAHx3s&amp;li...</td>\n",
       "      <td>https://www.youtube.com/watch?v=xvqsFTUsOmc&amp;li...</td>\n",
       "      <td>https://www.youtube.com/watch?v=cCOL7MC4Pl0&amp;li...</td>\n",
       "      <td>https://www.youtube.com/watch?v=860d8usGC0o&amp;li...</td>\n",
       "      <td>https://www.youtube.com/watch?v=uCH1ta5OUHw&amp;li...</td>\n",
       "      <td>https://www.youtube.com/watch?v=KJgsSFOSQv0&amp;li...</td>\n",
       "      <td>https://www.youtube.com/watch?v=v21jg8wb1eU&amp;li...</td>\n",
       "      <td>https://www.youtube.com/watch?v=poLzjLt2yqU&amp;li...</td>\n",
       "      <td>https://www.youtube.com/watch?v=gfguGS8HYvM&amp;li...</td>\n",
       "      <td>https://www.youtube.com/watch?v=2ZHuj8uBinM&amp;li...</td>\n",
       "      <td>https://www.youtube.com/watch?v=o-Yp8A7BPE8&amp;li...</td>\n",
       "    </tr>\n",
       "    <tr>\n",
       "      <th>Playlist_Item_Title</th>\n",
       "      <td>10 years of coding in 13 minutes</td>\n",
       "      <td>Why Most People FAIL to Learn Programming</td>\n",
       "      <td>3 FREE Websites To Learn To Code That Are BETT...</td>\n",
       "      <td>Back to Basics: The Structure of a Program</td>\n",
       "      <td>P vs. NP and the Computational Complexity Zoo</td>\n",
       "      <td>Natural Language Processing in Python</td>\n",
       "      <td>Jake Archibald: In The Loop - JSConf.Asia</td>\n",
       "      <td>Have Single-Page Apps Ruined the Web? | Transi...</td>\n",
       "      <td>HTML Canvas DEEP DIVE for Beginners</td>\n",
       "      <td>C Programming Tutorial for Beginners</td>\n",
       "      <td>How To Estimate Software Development Time</td>\n",
       "      <td>The Business of Building Apps - App Product Ma...</td>\n",
       "      <td>API Business Models: 20 Models in 30 Minutes -...</td>\n",
       "      <td>Social network analysis - Introduction to stru...</td>\n",
       "      <td>System Dynamics: Systems Thinking and Modeling...</td>\n",
       "    </tr>\n",
       "    <tr>\n",
       "      <th>Runtime</th>\n",
       "      <td>900000</td>\n",
       "      <td>484000</td>\n",
       "      <td>750000</td>\n",
       "      <td>3660000</td>\n",
       "      <td>644000</td>\n",
       "      <td>6660000</td>\n",
       "      <td>2100000</td>\n",
       "      <td>1140000</td>\n",
       "      <td>2940000</td>\n",
       "      <td>13560000</td>\n",
       "      <td>960000</td>\n",
       "      <td>28740000</td>\n",
       "      <td>1620000</td>\n",
       "      <td>8580000</td>\n",
       "      <td>3300000</td>\n",
       "    </tr>\n",
       "    <tr>\n",
       "      <th>Author</th>\n",
       "      <td>Joma Tech</td>\n",
       "      <td>Aaron Jack</td>\n",
       "      <td>Dorian Develops</td>\n",
       "      <td>Coding Tech 4 months</td>\n",
       "      <td>hackerdashery</td>\n",
       "      <td>PyOhio 3 years</td>\n",
       "      <td>JSConf</td>\n",
       "      <td>Jamstack TV</td>\n",
       "      <td>Franks laboratory</td>\n",
       "      <td>freeCodeCamp.org 3 years</td>\n",
       "      <td>Continuous Delivery</td>\n",
       "      <td>freeCodeCamp.org 2 months</td>\n",
       "      <td>TIBCO Mashery</td>\n",
       "      <td>The Alan Turing Institute 3 years</td>\n",
       "      <td>MIT OpenCourseWare</td>\n",
       "    </tr>\n",
       "  </tbody>\n",
       "</table>\n",
       "</div>"
      ],
      "text/plain": [
       "                                                                    0   \\\n",
       "YouTube_Video_URL    https://www.youtube.com/watch?v=1fPWr0d5zBE&li...   \n",
       "Playlist_Item_Title                   10 years of coding in 13 minutes   \n",
       "Runtime                                                         900000   \n",
       "Author                                                       Joma Tech   \n",
       "\n",
       "                                                                    1   \\\n",
       "YouTube_Video_URL    https://www.youtube.com/watch?v=T7aSI-E1fCE&li...   \n",
       "Playlist_Item_Title          Why Most People FAIL to Learn Programming   \n",
       "Runtime                                                         484000   \n",
       "Author                                                      Aaron Jack   \n",
       "\n",
       "                                                                    2   \\\n",
       "YouTube_Video_URL    https://www.youtube.com/watch?v=t-9l98JFcSo&li...   \n",
       "Playlist_Item_Title  3 FREE Websites To Learn To Code That Are BETT...   \n",
       "Runtime                                                         750000   \n",
       "Author                                                 Dorian Develops   \n",
       "\n",
       "                                                                    3   \\\n",
       "YouTube_Video_URL    https://www.youtube.com/watch?v=iGOEKtYfEdY&li...   \n",
       "Playlist_Item_Title         Back to Basics: The Structure of a Program   \n",
       "Runtime                                                        3660000   \n",
       "Author                                            Coding Tech 4 months   \n",
       "\n",
       "                                                                    4   \\\n",
       "YouTube_Video_URL    https://www.youtube.com/watch?v=YX40hbAHx3s&li...   \n",
       "Playlist_Item_Title      P vs. NP and the Computational Complexity Zoo   \n",
       "Runtime                                                         644000   \n",
       "Author                                                   hackerdashery   \n",
       "\n",
       "                                                                    5   \\\n",
       "YouTube_Video_URL    https://www.youtube.com/watch?v=xvqsFTUsOmc&li...   \n",
       "Playlist_Item_Title              Natural Language Processing in Python   \n",
       "Runtime                                                        6660000   \n",
       "Author                                                  PyOhio 3 years   \n",
       "\n",
       "                                                                    6   \\\n",
       "YouTube_Video_URL    https://www.youtube.com/watch?v=cCOL7MC4Pl0&li...   \n",
       "Playlist_Item_Title          Jake Archibald: In The Loop - JSConf.Asia   \n",
       "Runtime                                                        2100000   \n",
       "Author                                                          JSConf   \n",
       "\n",
       "                                                                    7   \\\n",
       "YouTube_Video_URL    https://www.youtube.com/watch?v=860d8usGC0o&li...   \n",
       "Playlist_Item_Title  Have Single-Page Apps Ruined the Web? | Transi...   \n",
       "Runtime                                                        1140000   \n",
       "Author                                                     Jamstack TV   \n",
       "\n",
       "                                                                    8   \\\n",
       "YouTube_Video_URL    https://www.youtube.com/watch?v=uCH1ta5OUHw&li...   \n",
       "Playlist_Item_Title                HTML Canvas DEEP DIVE for Beginners   \n",
       "Runtime                                                        2940000   \n",
       "Author                                               Franks laboratory   \n",
       "\n",
       "                                                                    9   \\\n",
       "YouTube_Video_URL    https://www.youtube.com/watch?v=KJgsSFOSQv0&li...   \n",
       "Playlist_Item_Title               C Programming Tutorial for Beginners   \n",
       "Runtime                                                       13560000   \n",
       "Author                                        freeCodeCamp.org 3 years   \n",
       "\n",
       "                                                                    10  \\\n",
       "YouTube_Video_URL    https://www.youtube.com/watch?v=v21jg8wb1eU&li...   \n",
       "Playlist_Item_Title          How To Estimate Software Development Time   \n",
       "Runtime                                                         960000   \n",
       "Author                                             Continuous Delivery   \n",
       "\n",
       "                                                                    11  \\\n",
       "YouTube_Video_URL    https://www.youtube.com/watch?v=poLzjLt2yqU&li...   \n",
       "Playlist_Item_Title  The Business of Building Apps - App Product Ma...   \n",
       "Runtime                                                       28740000   \n",
       "Author                                       freeCodeCamp.org 2 months   \n",
       "\n",
       "                                                                    12  \\\n",
       "YouTube_Video_URL    https://www.youtube.com/watch?v=gfguGS8HYvM&li...   \n",
       "Playlist_Item_Title  API Business Models: 20 Models in 30 Minutes -...   \n",
       "Runtime                                                        1620000   \n",
       "Author                                                   TIBCO Mashery   \n",
       "\n",
       "                                                                    13  \\\n",
       "YouTube_Video_URL    https://www.youtube.com/watch?v=2ZHuj8uBinM&li...   \n",
       "Playlist_Item_Title  Social network analysis - Introduction to stru...   \n",
       "Runtime                                                        8580000   \n",
       "Author                               The Alan Turing Institute 3 years   \n",
       "\n",
       "                                                                    14  \n",
       "YouTube_Video_URL    https://www.youtube.com/watch?v=o-Yp8A7BPE8&li...  \n",
       "Playlist_Item_Title  System Dynamics: Systems Thinking and Modeling...  \n",
       "Runtime                                                        3300000  \n",
       "Author                                              MIT OpenCourseWare  "
      ]
     },
     "execution_count": 19,
     "metadata": {},
     "output_type": "execute_result"
    }
   ],
   "source": [
    "# Dataframe for original code for compiling XSPF for local files\n",
    "df_videodata = pd.DataFrame.from_dict(x, orient='index')\n",
    "\n",
    "#SAMPLE\n",
    "df_videodata[0:5]"
   ]
  },
  {
   "cell_type": "code",
   "execution_count": null,
   "id": "5201dc2d-7d3e-442e-8a97-14a6dce6ca72",
   "metadata": {},
   "outputs": [],
   "source": [
    "import xml.etree.ElementTree as xml\n",
    "import os\n",
    "\n",
    "ext_list = ['.mp4', '.mkv', '.avi', '.flv', '.mov', '.wmv', '.vob',\n",
    "'.mpg','.3gp', '.m4v', '.m3u']\t\t#List of extensions to be checked.\n",
    "\n",
    "check_subdirectories = False\t\t#Set false to get files only from cwd.\n",
    "\n",
    "class Playlist:\n",
    "\t\"\"\"Build xml playlist.\"\"\"\n",
    "\t\n",
    "\tdef __init__(self):\n",
    "\t#Defines basic tree structure.\n",
    "\t\tself.playlist = xml.Element('playlist')\n",
    "\t\tself.tree = xml.ElementTree(self.playlist)\n",
    "\t\tself.playlist.set('xmlns','http://xspf.org/ns/0/')\n",
    "\t\tself.playlist.set('xmlns:vlc','http://www.videolan.org/vlc/playlist/ns/0/')\n",
    "\t\tself.playlist.set('version', '1')\n",
    "\n",
    "\t\tself.title = xml.Element('title')\n",
    "\t\tself.playlist.append(self.title)\n",
    "\t\tself.title.text = 'Playlist'\n",
    "\n",
    "\t\tself.trackList = xml.Element('trackList')\n",
    "\t\tself.playlist.append(self.trackList)\n",
    "\n",
    "\tdef add_track(self, path, dataframe=\"\"):\n",
    "\t#Add tracks to xml tree (within trackList).\n",
    "\t\ttrack \t\t\t= xml.Element('track')\n",
    "\t\tlocation \t\t= xml.Element('location')\n",
    "\t\tlocation.text = path\n",
    "\t\ttrack.append(location)\n",
    "\t\tself.trackList.append(track)\n",
    "\t\n",
    "\tdef get_playlist(self):\n",
    "\t#Return complete playlist with tracks.\n",
    "\t\treturn self.playlist\n",
    "\n",
    "class Videos:\n",
    "\t\"\"\"Manage files (videos) to be added to the playlist.\"\"\"\n",
    "\tdef __init__(self):\n",
    "\t\tpass\n",
    "\n",
    "\tdef remove_nonvideo_files(self,file_list):\n",
    "\t#Removes files whose extension is not mentioned in ext_list from list of files.\n",
    "\t\tfor index,file_name in enumerate(file_list[:]):\n",
    "\t\t\t#if file_name.endswith(tuple(ext_list)) or file_name.endswith(tuple(ext_list.upper())) :\n",
    "\t\t\tif file_name.endswith(tuple(ext_list)) or file_name.endswith(tuple(ext.upper() for ext in ext_list)):\n",
    "\t\t\t\tpass\n",
    "\t\t\telse:\n",
    "\t\t\t\tfile_list.remove(file_name)\n",
    "\t\treturn file_list\n",
    "\t\n",
    "\tdef edit_paths(self, video_files):\n",
    "\t#Add path and prefix to files as required in vlc playlist file. \n",
    "\t\tfor index in range(len(video_files)):\n",
    "\t\t\tvideo_files[index] =( \n",
    "\t\t\t'file:///' + os.path.join(video_files[index])).replace('\\\\','/')\n",
    "\t\treturn video_files\n",
    "\t\n",
    "\tdef get_videos(self):\n",
    "\t#Returns list of video files in the directory.\n",
    "\t\tif check_subdirectories == True:\n",
    "\t\t\tpathlist = [os.getcwd()]\t#List of all directories to be scanned.\n",
    "\t\t\tfor root, dirs, files in os.walk(os.getcwd()):\n",
    "\t\t\t\tfor name in dirs:\n",
    "\t\t\t\t\t\tsubdir_path = os.path.join(root, name)\n",
    "\t\t\t\t\t\tif subdir_path.find('\\.') != -1:\t#Excludes hidden directoriess.\n",
    "\t\t\t\t\t\t\tpass\n",
    "\t\t\t\t\t\telse:\n",
    "\t\t\t\t\t\t\tpathlist.append(subdir_path)\n",
    "\t\t\t\t\t\t\t\n",
    "\t\t\tvideos = []\n",
    "\t\t\t#Loops through files of root directory and every subdirectory.\n",
    "\t\t\tfor path in pathlist:\n",
    "\t\t\t\tall_files = os.listdir(path)\n",
    "\t\t\t\tfor f in self.remove_nonvideo_files(all_files):\n",
    "\t\t\t\t\tlocation = path+ '\\\\' + f\n",
    "\t\t\t\t\tvideos.append(location)\n",
    "\t\t\treturn videos\n",
    "\t\t\t\n",
    "\t\telse:\n",
    "\t\t\tvideos = []\n",
    "\t\t\tall_files = os.listdir()\n",
    "\t\t\tfor f in self.remove_nonvideo_files(all_files):\n",
    "\t\t\t\t\tlocation = os.getcwd() + '\\\\' + f\n",
    "\t\t\t\t\tvideos.append(location)\n",
    "\t\t\treturn videos\n",
    "\n",
    "def main():\n",
    "\t\n",
    "\tplaylist = Playlist()\n",
    "\tvideos = Videos()\n",
    "\t\n",
    "\tvideo_files = videos.get_videos()\n",
    "\tvideo_paths = videos.edit_paths(video_files)\n",
    "\t\n",
    "\tfor path in video_paths:\n",
    "\t\tplaylist.add_track(path)\n",
    "\t\n",
    "\tplaylist_xml = playlist.get_playlist()\n",
    "\twith open('songs.xspf','w') as mf:\n",
    "\t\tmf.write(xml.tostring(playlist_xml).decode('utf-8'))\n",
    "\t\n",
    "main()"
   ]
  },
  {
   "cell_type": "markdown",
   "id": "03fd2c14",
   "metadata": {},
   "source": [
    "### Opening the XSPF Playlist in VLC Media Player (and watching it with no ads... and for free)"
   ]
  },
  {
   "cell_type": "code",
   "execution_count": null,
   "id": "26d1d3b4",
   "metadata": {},
   "outputs": [
    {
     "data": {
      "text/plain": [
       "<Popen: returncode: None args: ['/Applications/VLC.app/Contents/MacOS/VLC', ...>"
      ]
     },
     "execution_count": 21,
     "metadata": {},
     "output_type": "execute_result"
    }
   ],
   "source": [
    "import vlc\n",
    "\n",
    "import subprocess\n",
    "\n",
    "#subprocess.Popen(['/Applications/VLC.app/Contents/MacOS/VLC', '--playlist-autostart', 'playlist.xspf'])\n",
    "subprocess.Popen([VLC_PATH, '--playlist-autostart', 'playlist.xspf'])"
   ]
  },
  {
   "cell_type": "code",
   "execution_count": null,
   "id": "af1f485d",
   "metadata": {},
   "outputs": [
    {
     "name": "stderr",
     "output_type": "stream",
     "text": [
      "[00007f91bc704530] main libvlc: Running vlc with the default interface. Use 'cvlc' to use vlc without interface.\n",
      "2022-02-21 14:04:22.614 VLC[32930:303268] Can't find app with identifier com.apple.iTunes\n",
      "2022-02-21 14:04:23.130 VLC[32930:303268] Can't find app with identifier com.spotify.client\n",
      "2022-02-21 14:04:23.301 VLC[32930:303268] Can't find app with identifier com.apple.iTunes\n",
      "2022-02-21 14:04:23.577 VLC[32930:303268] Can't find app with identifier com.spotify.client\n",
      "[00007f91bd151be0] videotoolbox decoder: Using Video Toolbox to decode 'h264'\n",
      "2022-02-21 14:04:31.837 VLC[32930:303268] Can't find app with identifier com.apple.iTunes\n",
      "2022-02-21 14:04:31.947 VLC[32930:303268] Can't find app with identifier com.spotify.client\n",
      "[00007f91bd151be0] videotoolbox decoder: vt cvpx chroma: 420v\n",
      "2022-02-21 14:04:33.790 VLC[32930:303268] Can't find app with identifier com.apple.iTunes\n",
      "2022-02-21 14:04:33.890 VLC[32930:303268] Can't find app with identifier com.spotify.client\n",
      "[00007f91bd151be0] videotoolbox decoder: Raising max DPB to 2\n"
     ]
    }
   ],
   "source": [
    "# Aaaaaannnnnnddddd ..... quit chromedriver\n",
    "#time.sleep(10)\n",
    "driver.quit()"
   ]
  }
 ],
 "metadata": {
  "kernelspec": {
   "display_name": "Python 3.10.0 64-bit ('playlist_scraper')",
   "language": "python",
   "name": "python3"
  },
  "language_info": {
   "codemirror_mode": {
    "name": "ipython",
    "version": 3
   },
   "file_extension": ".py",
   "mimetype": "text/x-python",
   "name": "python",
   "nbconvert_exporter": "python",
   "pygments_lexer": "ipython3",
   "version": "3.10.0"
  },
  "toc-autonumbering": true,
  "vscode": {
   "interpreter": {
    "hash": "d4a235e671444c61ea97081d548dfa7c628d3950b08e2f14f9564b868a68fbe5"
   }
  }
 },
 "nbformat": 4,
 "nbformat_minor": 5
}
